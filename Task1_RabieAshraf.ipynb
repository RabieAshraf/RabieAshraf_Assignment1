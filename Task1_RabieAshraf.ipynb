{
  "cells": [
    {
      "cell_type": "markdown",
      "source": [
        "**Task 1:**"
      ],
      "metadata": {
        "id": "t2l3ud6B5vPK"
      }
    },
    {
      "cell_type": "code",
      "execution_count": null,
      "metadata": {
        "colab": {
          "base_uri": "https://localhost:8080/"
        },
        "id": "KWeNJve6xi3S",
        "outputId": "a7982d22-3514-454f-844e-798d32b56f85"
      },
      "outputs": [
        {
          "output_type": "stream",
          "name": "stdout",
          "text": [
            "1.9920979817708333e+20\n"
          ]
        }
      ],
      "source": [
        "G = (6.67)*(10)**(-11)\n",
        "M = (6.0)*(10)**(24)\n",
        "m = (7.34)*(10)**(22)\n",
        "r = (3.84)*(10)**(8)\n",
        "F = (G*M*m)/(r)**(2)\n",
        "print(F)"
      ]
    }
  ],
  "metadata": {
    "colab": {
      "name": "Task 1.ipynb",
      "provenance": [],
      "collapsed_sections": []
    },
    "kernelspec": {
      "display_name": "Python 3",
      "name": "python3"
    },
    "language_info": {
      "name": "python"
    }
  },
  "nbformat": 4,
  "nbformat_minor": 0
}