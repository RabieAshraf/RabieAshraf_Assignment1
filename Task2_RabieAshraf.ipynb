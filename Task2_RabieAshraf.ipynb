{
  "nbformat": 4,
  "nbformat_minor": 0,
  "metadata": {
    "colab": {
      "name": "Task2_RabieAshraf.ipynb",
      "provenance": []
    },
    "kernelspec": {
      "name": "python3",
      "display_name": "Python 3"
    },
    "language_info": {
      "name": "python"
    }
  },
  "cells": [
    {
      "cell_type": "markdown",
      "source": [
        "**Task2:**"
      ],
      "metadata": {
        "id": "T-mM959sjzB8"
      }
    },
    {
      "cell_type": "code",
      "execution_count": 7,
      "metadata": {
        "colab": {
          "base_uri": "https://localhost:8080/"
        },
        "id": "qWLip-PKiUfL",
        "outputId": "7f6fd59e-3757-4381-caa1-7a8ea88d5663"
      },
      "outputs": [
        {
          "output_type": "stream",
          "name": "stdout",
          "text": [
            "enter a sequense of numbers:12345\n",
            "['1', '2', '3', '4', '5']\n",
            "('1', '2', '3', '4', '5')\n"
          ]
        }
      ],
      "source": [
        "x=input(\"enter a sequense of numbers:\")\n",
        "list1=list(x)\n",
        "tuple1=tuple(x)\n",
        "print(list1)\n",
        "print(tuple1)"
      ]
    }
  ]
}